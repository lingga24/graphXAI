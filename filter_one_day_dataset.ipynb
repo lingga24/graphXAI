{
 "cells": [
  {
   "cell_type": "code",
   "execution_count": 4,
   "id": "d59c78a0",
   "metadata": {},
   "outputs": [
    {
     "name": "stdout",
     "output_type": "stream",
     "text": [
      "Buy interactions on 2017-11-28: 10735\n"
     ]
    }
   ],
   "source": [
    "import torch\n",
    "from datetime import datetime\n",
    "import pandas as pd\n",
    "\n",
    "data = torch.load('processed_data.pt')\n",
    "timestamps = data['user', 'item'].time.cpu().numpy()\n",
    "dates = pd.to_datetime(timestamps, unit='s').date\n",
    "selected_day = datetime.strptime('2017-11-28', '%Y-%m-%d').date()\n",
    "\n",
    "# Mask for selected day\n",
    "mask = (dates == selected_day)\n",
    "behavior = data['user', 'item'].behavior[mask]\n",
    "num_buy = (behavior == 2).sum().item()\n",
    "print(f\"Buy interactions on {selected_day}: {num_buy}\")\n"
   ]
  },
  {
   "cell_type": "code",
   "execution_count": 5,
   "id": "062468ea",
   "metadata": {},
   "outputs": [
    {
     "name": "stdout",
     "output_type": "stream",
     "text": [
      "Filtered graph for 2017-11-28 has 490128 edges.\n"
     ]
    }
   ],
   "source": [
    "import torch\n",
    "from torch_geometric.data import HeteroData\n",
    "import numpy as np\n",
    "\n",
    "# === STEP 1: Load the full graph ===\n",
    "data = torch.load('processed_data.pt')\n",
    "\n",
    "# === STEP 2: Convert timestamps to date and filter for one day ===\n",
    "# Assume time is stored in seconds in edge attribute 'time'\n",
    "timestamps = data['user', 'item'].time.cpu().numpy()\n",
    "dates = pd.to_datetime(timestamps, unit='s').date\n",
    "selected_day = datetime.strptime('2017-11-28', '%Y-%m-%d').date()\n",
    "\n",
    "# Create mask where edge date matches selected day\n",
    "mask = np.array(dates) == selected_day\n",
    "mask = torch.from_numpy(mask).to(torch.bool)\n",
    "\n",
    "# === STEP 3: Filter edges for that day ===\n",
    "edge_index = data['user', 'item'].edge_index[:, mask]\n",
    "behavior = data['user', 'item'].behavior[mask]\n",
    "time = data['user', 'item'].time[mask]\n",
    "\n",
    "# === STEP 4: Create a new HeteroData with only those edges ===\n",
    "filtered_data = HeteroData()\n",
    "filtered_data['user'].num_nodes = data['user'].num_nodes\n",
    "filtered_data['item'].num_nodes = data['item'].num_nodes\n",
    "filtered_data['category'].num_nodes = data['category'].num_nodes\n",
    "\n",
    "filtered_data['user', 'item'].edge_index = edge_index\n",
    "filtered_data['user', 'item'].behavior = behavior\n",
    "filtered_data['user', 'item'].time = time\n",
    "\n",
    "# Copy item-category edges as-is (optional)\n",
    "filtered_data['item', 'category'].edge_index = data['item', 'category'].edge_index\n",
    "\n",
    "# === STEP 5: Save or use the filtered graph ===\n",
    "print(f\"Filtered graph for {selected_day} has {edge_index.shape[1]} edges.\")\n",
    "torch.save(filtered_data, f'graph_{selected_day}.pt')\n"
   ]
  }
 ],
 "metadata": {
  "kernelspec": {
   "display_name": "graphxai_env",
   "language": "python",
   "name": "python3"
  },
  "language_info": {
   "codemirror_mode": {
    "name": "ipython",
    "version": 3
   },
   "file_extension": ".py",
   "mimetype": "text/x-python",
   "name": "python",
   "nbconvert_exporter": "python",
   "pygments_lexer": "ipython3",
   "version": "3.8.20"
  }
 },
 "nbformat": 4,
 "nbformat_minor": 5
}
