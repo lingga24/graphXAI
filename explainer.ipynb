{
 "cells": [
  {
   "cell_type": "code",
   "execution_count": 1,
   "metadata": {},
   "outputs": [
    {
     "name": "stderr",
     "output_type": "stream",
     "text": [
      "c:\\Users\\Lingg\\miniconda3\\envs\\graphxai_env\\lib\\site-packages\\tqdm\\auto.py:21: TqdmWarning: IProgress not found. Please update jupyter and ipywidgets. See https://ipywidgets.readthedocs.io/en/stable/user_install.html\n",
      "  from .autonotebook import tqdm as notebook_tqdm\n"
     ]
    }
   ],
   "source": [
    "import torch\n",
    "import torch.nn.functional as F\n",
    "from torch_geometric.nn import GCNConv\n",
    "from graphxai.datasets import ShapeGGen\n",
    "from graphxai.explainers import GradExplainer, GNNExplainer, PGMExplainer\n",
    "from graphxai.metrics.base import graph_exp_acc, graph_exp_faith, graph_exp_stability\n",
    "import numpy as np\n",
    "import networkx as nx\n",
    "import matplotlib.pyplot as plt"
   ]
  },
  {
   "cell_type": "code",
   "execution_count": 2,
   "metadata": {},
   "outputs": [
    {
     "name": "stderr",
     "output_type": "stream",
     "text": [
      "100%|██████████| 45/45 [00:00<00:00, 297.43it/s]\n"
     ]
    },
    {
     "name": "stdout",
     "output_type": "stream",
     "text": [
      "Graph Data: Data(x=[135, 11], edge_index=[2, 380], y=[135], shape=[135])\n",
      "Graph Explanations: [[<graphxai.utils.explanation.Explanation object at 0x000001F6ABC38E20>], [<graphxai.utils.explanation.Explanation object at 0x000001F6ABC387C0>], [<graphxai.utils.explanation.Explanation object at 0x000001F6ABC38C40>], [<graphxai.utils.explanation.Explanation object at 0x000001F6ABC38D60>], [<graphxai.utils.explanation.Explanation object at 0x000001F6ABC38CA0>], [<graphxai.utils.explanation.Explanation object at 0x000001F6ABC38E80>], [<graphxai.utils.explanation.Explanation object at 0x000001F691A3E880>], [<graphxai.utils.explanation.Explanation object at 0x000001F691A3E160>], [<graphxai.utils.explanation.Explanation object at 0x000001F691A3E520>], [<graphxai.utils.explanation.Explanation object at 0x000001F6ABC82BE0>], [<graphxai.utils.explanation.Explanation object at 0x000001F6ABC82B80>], [<graphxai.utils.explanation.Explanation object at 0x000001F6ABC82BB0>], [<graphxai.utils.explanation.Explanation object at 0x000001F6ABC82B20>], [<graphxai.utils.explanation.Explanation object at 0x000001F6ABC827F0>], [<graphxai.utils.explanation.Explanation object at 0x000001F6ABC82A00>], [<graphxai.utils.explanation.Explanation object at 0x000001F6ABC82AC0>], [<graphxai.utils.explanation.Explanation object at 0x000001F6ABC82580>], [<graphxai.utils.explanation.Explanation object at 0x000001F6ABC82610>], [<graphxai.utils.explanation.Explanation object at 0x000001F6ABC82640>], [<graphxai.utils.explanation.Explanation object at 0x000001F6ABC82700>], [<graphxai.utils.explanation.Explanation object at 0x000001F6ABC82D00>], [<graphxai.utils.explanation.Explanation object at 0x000001F6ABC82D90>], [<graphxai.utils.explanation.Explanation object at 0x000001F6ABC82E20>], [<graphxai.utils.explanation.Explanation object at 0x000001F6ABC82CA0>], [<graphxai.utils.explanation.Explanation object at 0x000001F6ABC82DC0>], [<graphxai.utils.explanation.Explanation object at 0x000001F6ABC82FD0>], [<graphxai.utils.explanation.Explanation object at 0x000001F6ABC82EE0>], [<graphxai.utils.explanation.Explanation object at 0x000001F6ABC92130>], [<graphxai.utils.explanation.Explanation object at 0x000001F6ABC920A0>], [<graphxai.utils.explanation.Explanation object at 0x000001F6ABC92280>], [<graphxai.utils.explanation.Explanation object at 0x000001F6ABC92250>], [<graphxai.utils.explanation.Explanation object at 0x000001F6ABC922B0>], [<graphxai.utils.explanation.Explanation object at 0x000001F6ABC92340>], [<graphxai.utils.explanation.Explanation object at 0x000001F6ABC92430>], [<graphxai.utils.explanation.Explanation object at 0x000001F6ABC92460>], [<graphxai.utils.explanation.Explanation object at 0x000001F6ABC925B0>], [<graphxai.utils.explanation.Explanation object at 0x000001F6ABC924F0>], [<graphxai.utils.explanation.Explanation object at 0x000001F6ABC92310>], [<graphxai.utils.explanation.Explanation object at 0x000001F6ABC925E0>], [<graphxai.utils.explanation.Explanation object at 0x000001F6ABC92760>], [<graphxai.utils.explanation.Explanation object at 0x000001F6ABC92820>], [<graphxai.utils.explanation.Explanation object at 0x000001F6ABC92940>], [<graphxai.utils.explanation.Explanation object at 0x000001F6ABC92910>], [<graphxai.utils.explanation.Explanation object at 0x000001F6ABC928E0>], [<graphxai.utils.explanation.Explanation object at 0x000001F6ABC92730>], [<graphxai.utils.explanation.Explanation object at 0x000001F6ABC929D0>], [<graphxai.utils.explanation.Explanation object at 0x000001F6ABC92BB0>], [<graphxai.utils.explanation.Explanation object at 0x000001F6ABC92C70>], [<graphxai.utils.explanation.Explanation object at 0x000001F6ABC92A60>], [<graphxai.utils.explanation.Explanation object at 0x000001F6ABC92DC0>], [<graphxai.utils.explanation.Explanation object at 0x000001F6ABC92D90>], [<graphxai.utils.explanation.Explanation object at 0x000001F6ABC92EE0>], [<graphxai.utils.explanation.Explanation object at 0x000001F6ABC92F70>], [<graphxai.utils.explanation.Explanation object at 0x000001F6ABC92FD0>], [<graphxai.utils.explanation.Explanation object at 0x000001F6ABC92D60>], [<graphxai.utils.explanation.Explanation object at 0x000001F6ABC8E0A0>], [<graphxai.utils.explanation.Explanation object at 0x000001F6ABC8E100>], [<graphxai.utils.explanation.Explanation object at 0x000001F6ABC8E1C0>], [<graphxai.utils.explanation.Explanation object at 0x000001F6ABC8E220>], [<graphxai.utils.explanation.Explanation object at 0x000001F6ABC8E310>], [<graphxai.utils.explanation.Explanation object at 0x000001F6ABC8E3D0>], [<graphxai.utils.explanation.Explanation object at 0x000001F6ABC8E340>], [<graphxai.utils.explanation.Explanation object at 0x000001F6ABC8E460>], [<graphxai.utils.explanation.Explanation object at 0x000001F6ABC8E430>], [<graphxai.utils.explanation.Explanation object at 0x000001F6ABC8E670>], [<graphxai.utils.explanation.Explanation object at 0x000001F6ABC8E640>], [<graphxai.utils.explanation.Explanation object at 0x000001F6ABC8E6A0>], [<graphxai.utils.explanation.Explanation object at 0x000001F6ABC8E760>], [<graphxai.utils.explanation.Explanation object at 0x000001F6ABC8E820>], [<graphxai.utils.explanation.Explanation object at 0x000001F6ABC8E940>], [<graphxai.utils.explanation.Explanation object at 0x000001F6ABC8E910>], [<graphxai.utils.explanation.Explanation object at 0x000001F6ABC8E9A0>], [<graphxai.utils.explanation.Explanation object at 0x000001F6ABC8EAF0>], [<graphxai.utils.explanation.Explanation object at 0x000001F6ABC8EAC0>], [<graphxai.utils.explanation.Explanation object at 0x000001F6ABC8EA90>], [<graphxai.utils.explanation.Explanation object at 0x000001F6ABC8EC70>], [<graphxai.utils.explanation.Explanation object at 0x000001F6ABC8ECD0>], [<graphxai.utils.explanation.Explanation object at 0x000001F6ABC8EBB0>], [<graphxai.utils.explanation.Explanation object at 0x000001F6ABC8ED90>], [<graphxai.utils.explanation.Explanation object at 0x000001F6ABC8EDF0>], [<graphxai.utils.explanation.Explanation object at 0x000001F6ABC8EEB0>], [<graphxai.utils.explanation.Explanation object at 0x000001F6ABC8EFD0>], [<graphxai.utils.explanation.Explanation object at 0x000001F6ABC8EF10>], [<graphxai.utils.explanation.Explanation object at 0x000001F6ABC9D160>], [<graphxai.utils.explanation.Explanation object at 0x000001F6ABC8EF70>], [<graphxai.utils.explanation.Explanation object at 0x000001F6ABC9D280>], [<graphxai.utils.explanation.Explanation object at 0x000001F6ABC9D250>], [<graphxai.utils.explanation.Explanation object at 0x000001F6ABC9D370>], [<graphxai.utils.explanation.Explanation object at 0x000001F6ABC9D400>], [<graphxai.utils.explanation.Explanation object at 0x000001F6ABC9D4C0>], [<graphxai.utils.explanation.Explanation object at 0x000001F6ABC9D490>], [<graphxai.utils.explanation.Explanation object at 0x000001F6ABC9D460>], [<graphxai.utils.explanation.Explanation object at 0x000001F6ABC9D610>], [<graphxai.utils.explanation.Explanation object at 0x000001F6ABC9D3A0>], [<graphxai.utils.explanation.Explanation object at 0x000001F6ABC9D5E0>], [<graphxai.utils.explanation.Explanation object at 0x000001F6ABC9D820>], [<graphxai.utils.explanation.Explanation object at 0x000001F6ABC9D670>], [<graphxai.utils.explanation.Explanation object at 0x000001F6ABC9D940>], [<graphxai.utils.explanation.Explanation object at 0x000001F6ABC9D9D0>], [<graphxai.utils.explanation.Explanation object at 0x000001F6ABC9D910>], [<graphxai.utils.explanation.Explanation object at 0x000001F6ABC9DAC0>], [<graphxai.utils.explanation.Explanation object at 0x000001F6ABC9D8E0>], [<graphxai.utils.explanation.Explanation object at 0x000001F6ABC9DBB0>], [<graphxai.utils.explanation.Explanation object at 0x000001F6ABC9DCA0>], [<graphxai.utils.explanation.Explanation object at 0x000001F6ABC9DCD0>], [<graphxai.utils.explanation.Explanation object at 0x000001F6ABC9DB20>], [<graphxai.utils.explanation.Explanation object at 0x000001F6ABC9DD60>], [<graphxai.utils.explanation.Explanation object at 0x000001F6ABC9DDF0>], [<graphxai.utils.explanation.Explanation object at 0x000001F6ABC9DF70>], [<graphxai.utils.explanation.Explanation object at 0x000001F6ABC9DEE0>], [<graphxai.utils.explanation.Explanation object at 0x000001F6ABC9DE80>], [<graphxai.utils.explanation.Explanation object at 0x000001F6ABC9DF10>], [<graphxai.utils.explanation.Explanation object at 0x000001F6ABCAB0D0>], [<graphxai.utils.explanation.Explanation object at 0x000001F6ABCAB100>], [<graphxai.utils.explanation.Explanation object at 0x000001F6ABCAB160>], [<graphxai.utils.explanation.Explanation object at 0x000001F6ABCAB370>], [<graphxai.utils.explanation.Explanation object at 0x000001F6ABCAB280>], [<graphxai.utils.explanation.Explanation object at 0x000001F6ABCAB490>], [<graphxai.utils.explanation.Explanation object at 0x000001F6ABCAB3A0>], [<graphxai.utils.explanation.Explanation object at 0x000001F6ABCAB4F0>], [<graphxai.utils.explanation.Explanation object at 0x000001F6ABCAB580>], [<graphxai.utils.explanation.Explanation object at 0x000001F6ABCAB670>], [<graphxai.utils.explanation.Explanation object at 0x000001F6ABCAB610>], [<graphxai.utils.explanation.Explanation object at 0x000001F6ABCAB730>], [<graphxai.utils.explanation.Explanation object at 0x000001F6ABCAB8B0>], [<graphxai.utils.explanation.Explanation object at 0x000001F6ABCAB880>], [<graphxai.utils.explanation.Explanation object at 0x000001F6ABCAB970>], [<graphxai.utils.explanation.Explanation object at 0x000001F6ABCAB8E0>], [<graphxai.utils.explanation.Explanation object at 0x000001F6ABCABAF0>], [<graphxai.utils.explanation.Explanation object at 0x000001F6ABCABAC0>], [<graphxai.utils.explanation.Explanation object at 0x000001F6ABCABB50>], [<graphxai.utils.explanation.Explanation object at 0x000001F6ABCABBB0>], [<graphxai.utils.explanation.Explanation object at 0x000001F6ABCABC40>], [<graphxai.utils.explanation.Explanation object at 0x000001F6ABCABCD0>], [<graphxai.utils.explanation.Explanation object at 0x000001F6ABCABD60>]]\n",
      "Explanation Available: Yes\n"
     ]
    }
   ],
   "source": [
    "# Generate dataset ShapeGGen\n",
    "dataset = ShapeGGen(model_layers=3, num_graphs=1, make_explanations=True)\n",
    "# Ambil graph dari dataset\n",
    "data = dataset.graph  # Dataset hanya memiliki satu graf\n",
    "explanation = dataset.explanations  # atau mungkin dataset.explanations jika atributnya berbentuk list\n",
    "\n",
    "print(f\"Graph Data: {data}\")\n",
    "print(f\"Graph Explanations: {explanation}\")\n",
    "print(f\"Explanation Available: {'Yes' if explanation is not None else 'No'}\")"
   ]
  },
  {
   "cell_type": "code",
   "execution_count": 3,
   "metadata": {},
   "outputs": [
    {
     "name": "stdout",
     "output_type": "stream",
     "text": [
      "Epoch 0, Loss: 0.6920\n",
      "Epoch 20, Loss: 0.4527\n",
      "Epoch 40, Loss: 0.3572\n",
      "Epoch 60, Loss: 0.3189\n",
      "Epoch 80, Loss: 0.2877\n",
      "Epoch 100, Loss: 0.2604\n",
      "Epoch 120, Loss: 0.2306\n",
      "Epoch 140, Loss: 0.1987\n",
      "Epoch 160, Loss: 0.1687\n",
      "Epoch 180, Loss: 0.1437\n"
     ]
    }
   ],
   "source": [
    "class GCN(torch.nn.Module):\n",
    "    def __init__(self, in_channels, hidden_channels, out_channels):\n",
    "        super(GCN, self).__init__()\n",
    "        self.conv1 = GCNConv(in_channels, hidden_channels)\n",
    "        self.conv2 = GCNConv(hidden_channels, out_channels)\n",
    "\n",
    "    def forward(self, x, edge_index):\n",
    "        x = self.conv1(x, edge_index)\n",
    "        x = F.relu(x)\n",
    "        x = self.conv2(x, edge_index)\n",
    "        return F.log_softmax(x, dim=1)\n",
    "\n",
    "#  Model training\n",
    "device = torch.device('cuda' if torch.cuda.is_available() else 'cpu')\n",
    "num_classes = len(torch.unique(data.y))  # Get number of unique classes from labels\n",
    "model = GCN(data.x.shape[1], 16, num_classes).to(device)\n",
    "\n",
    "# Create train mask (for example, using 80% of nodes for training)\n",
    "num_nodes = data.x.size(0)\n",
    "train_mask = torch.zeros(num_nodes, dtype=torch.bool)\n",
    "train_indices = torch.randperm(num_nodes)[:int(0.8 * num_nodes)]\n",
    "train_mask[train_indices] = True\n",
    "data.train_mask = train_mask\n",
    "\n",
    "data = data.to(device)\n",
    "optimizer = torch.optim.Adam(model.parameters(), lr=0.01, weight_decay=5e-4)\n",
    "\n",
    "# Training loop\n",
    "def train():\n",
    "    model.train()\n",
    "    optimizer.zero_grad()\n",
    "    out = model(data.x, data.edge_index)\n",
    "    loss = F.nll_loss(out[data.train_mask], data.y[data.train_mask])\n",
    "    loss.backward()\n",
    "    optimizer.step()\n",
    "    return loss.item()\n",
    "\n",
    "for epoch in range(200):\n",
    "    loss = train()\n",
    "    if epoch % 20 == 0:\n",
    "        print(f\"Epoch {epoch}, Loss: {loss:.4f}\")"
   ]
  },
  {
   "cell_type": "code",
   "execution_count": 12,
   "metadata": {},
   "outputs": [
    {
     "name": "stderr",
     "output_type": "stream",
     "text": [
      "  0%|          | 0/1000000 [00:00<?, ?it/s]\n"
     ]
    }
   ],
   "source": [
    "# Inisialisasi explainer\n",
    "grad_explainer = GradExplainer(model,criterion=F.nll_loss)\n",
    "gnn_explainer = GNNExplainer(model)\n",
    "pgm_explainer = PGMExplainer(model, explain_graph=False)\n",
    "\n",
    "# Ambil satu node untuk dijelaskan\n",
    "node_idx = 10  # Pilih node yang ada dalam train set\n",
    "x, edge_index = data.x, data.edge_index\n",
    "\n",
    "node_id = node_idx.item() if isinstance(node_idx, torch.Tensor) else node_idx\n",
    "\n",
    "\n",
    "grad_explanation = grad_explainer.get_explanation_node(node_idx=node_idx, x=x, edge_index=edge_index)\n",
    "gnn_explanation = gnn_explainer.get_explanation_node(node_idx=node_idx, x=x, edge_index=edge_index)\n",
    "pgm_explanation = pgm_explainer.get_explanation_node(node_idx=node_idx, x=x, edge_index=edge_index)\n",
    "\n",
    "# **Cek apakah hasil explainability valid**\n",
    "if grad_explanation is None or gnn_explanation is None or pgm_explanation is None:\n",
    "    raise ValueError(\"Salah satu metode explainability tidak menghasilkan output!\")\n",
    "\n",
    "# **Cek apakah edge index valid**\n",
    "if dataset.graph.edge_index.numel() == 0:\n",
    "    raise ValueError(\"Edge index kosong! Pastikan dataset memiliki edge yang valid.\")\n",
    "\n",
    "def fix_node_reference(explanation, node_idx):\n",
    "    if explanation.node_reference is None:\n",
    "        explanation.node_reference = {i: i for i in range(len(explanation.node_imp))}\n",
    "    explanation.node_reference[0] = node_idx\n",
    "\n",
    "fix_node_reference(grad_explanation, node_id)\n",
    "fix_node_reference(gnn_explanation, node_id)\n",
    "fix_node_reference(pgm_explanation, node_id)\n",
    "\n",
    "# **Step 6: Evaluasi Stability (GES)**\n",
    "delta = 0.1  # Sesuaikan parameter ini untuk pengujian\n"
   ]
  },
  {
   "cell_type": "code",
   "execution_count": 14,
   "metadata": {},
   "outputs": [
    {
     "name": "stdout",
     "output_type": "stream",
     "text": [
      "Graph Explanation Accuracy:\n",
      "Grad: 0.0000\n",
      "GNNExplainer: 0.4000\n",
      "PGMExplainer: 0.0000\n",
      "\n",
      "Graph Explanation Faithfulness:\n",
      "Grad: 1.0000\n",
      "GNNExplainer: 1.0000\n",
      "PGMExplainer: 1.0000\n"
     ]
    }
   ],
   "source": [
    "# Ground truth explanation dari ShapeGGen\n",
    "ground_truth = dataset.explanations[node_idx][0]  # Extract the Explanation object from the list\n",
    "\n",
    "# Evaluasi Graph Explanation Accuracy (GEA)\n",
    "gea_grad = graph_exp_acc(ground_truth, grad_explanation)\n",
    "gea_gnn = graph_exp_acc(ground_truth, gnn_explanation)\n",
    "gea_pgm = graph_exp_acc(ground_truth, pgm_explanation)\n",
    "\n",
    "print(\"Graph Explanation Accuracy:\")\n",
    "print(f\"Grad: {gea_grad:.4f}\")\n",
    "print(f\"GNNExplainer: {gea_gnn:.4f}\")\n",
    "print(f\"PGMExplainer: {gea_pgm:.4f}\")\n",
    "\n",
    "# Evaluasi Graph Explanation Faithfulness (GEF)\n",
    "gef_grad = graph_exp_faith(grad_explanation, dataset, model)\n",
    "gef_gnn = graph_exp_faith(gnn_explanation, dataset, model)\n",
    "gef_pgm = graph_exp_faith(pgm_explanation, dataset, model)\n",
    "print(\"\\nGraph Explanation Faithfulness:\")\n",
    "print(f\"Grad: {gef_grad:.4f}\")\n",
    "print(f\"GNNExplainer: {gef_gnn:.4f}\")\n",
    "print(f\"PGMExplainer: {gef_pgm:.4f}\")\n",
    "\n",
    "# Evaluasi Graph Explanation Stability (GES)\n",
    "# ges_grad = graph_exp_stability(grad_explanation, ground_truth)\n",
    "# ges_gnn = graph_exp_stability(gnn_explanation, ground_truth)\n",
    "# ges_pgm = graph_exp_stability(pgm_explanation, ground_truth)\n",
    "\n",
    "# ges_grad = graph_exp_stability(\n",
    "#     generated_exp=grad_explanation,\n",
    "#     shape_graph=dataset.graph,\n",
    "#     node_id=node_idx,\n",
    "#     model=model,\n",
    "#     delta=delta\n",
    "# )\n",
    "\n",
    "# ges_gnn = graph_exp_stability(\n",
    "#     generated_exp=gnn_explanation,\n",
    "#     shape_graph=dataset.graph,\n",
    "#     node_id=node_idx,c\n",
    "#     model=model,\n",
    "#     delta=delta\n",
    "# )\n",
    "\n",
    "# ges_pgm = graph_exp_stability(\n",
    "#     generated_exp=pgm_explanation,\n",
    "#     shape_graph=dataset.graph,\n",
    "#     node_id=node_idx,\n",
    "#     model=model,\n",
    "#     delta=delta\n",
    "# )\n",
    "\n",
    "# print(\"\\nGraph Explanation Stability:\")\n",
    "# print(f\"Grad: {ges_grad:.4f}\")\n",
    "# print(f\"GNNExplainer: {ges_gnn:.4f}\")\n",
    "# print(f\"PGMExplainer: {ges_pgm:.4f}\")"
   ]
  },
  {
   "cell_type": "code",
   "execution_count": 16,
   "metadata": {},
   "outputs": [
    {
     "ename": "AttributeError",
     "evalue": "'Explanation' object has no attribute 'cpu'",
     "output_type": "error",
     "traceback": [
      "\u001b[1;31m---------------------------------------------------------------------------\u001b[0m",
      "\u001b[1;31mAttributeError\u001b[0m                            Traceback (most recent call last)",
      "Cell \u001b[1;32mIn[16], line 17\u001b[0m\n\u001b[0;32m     14\u001b[0m     plt\u001b[38;5;241m.\u001b[39mshow()\n\u001b[0;32m     16\u001b[0m \u001b[38;5;66;03m# Visualisasi hasil explainability\u001b[39;00m\n\u001b[1;32m---> 17\u001b[0m visualize_explanation(data, node_idx, \u001b[43mgrad_explanation\u001b[49m\u001b[38;5;241;43m.\u001b[39;49m\u001b[43mcpu\u001b[49m()\u001b[38;5;241m.\u001b[39mnumpy(), \u001b[38;5;124m\"\u001b[39m\u001b[38;5;124mGrad Explanation\u001b[39m\u001b[38;5;124m\"\u001b[39m)\n\u001b[0;32m     18\u001b[0m visualize_explanation(data, node_idx, gnn_explanation\u001b[38;5;241m.\u001b[39mcpu()\u001b[38;5;241m.\u001b[39mnumpy(), \u001b[38;5;124m\"\u001b[39m\u001b[38;5;124mGNNExplainer Explanation\u001b[39m\u001b[38;5;124m\"\u001b[39m)\n\u001b[0;32m     19\u001b[0m visualize_explanation(data, node_idx, pgm_explanation\u001b[38;5;241m.\u001b[39mcpu()\u001b[38;5;241m.\u001b[39mnumpy(), \u001b[38;5;124m\"\u001b[39m\u001b[38;5;124mPGMExplainer Explanation\u001b[39m\u001b[38;5;124m\"\u001b[39m)\n",
      "\u001b[1;31mAttributeError\u001b[0m: 'Explanation' object has no attribute 'cpu'"
     ]
    }
   ],
   "source": [
    "def visualize_explanation(graph, node_idx, explanation, title):\n",
    "    plt.figure(figsize=(6, 6))\n",
    "    G = nx.Graph()\n",
    "    edges = graph.edge_index.cpu().numpy()\n",
    "    for i in range(edges.shape[1]):\n",
    "        G.add_edge(edges[0, i], edges[1, i])\n",
    "\n",
    "    # Warna node berdasarkan importance score\n",
    "    node_colors = ['red' if explanation[i] > 0 else 'blue' for i in range(len(explanation))]\n",
    "\n",
    "    pos = nx.spring_layout(G)\n",
    "    nx.draw(G, pos, with_labels=True, node_color=node_colors, node_size=300, edge_color=\"gray\")\n",
    "    plt.title(title)\n",
    "    plt.show()\n",
    "\n",
    "# Visualisasi hasil explainability\n",
    "visualize_explanation(data, node_idx, grad_explanation.cpu().numpy(), \"Grad Explanation\")\n",
    "visualize_explanation(data, node_idx, gnn_explanation.cpu().numpy(), \"GNNExplainer Explanation\")\n",
    "visualize_explanation(data, node_idx, pgm_explanation.cpu().numpy(), \"PGMExplainer Explanation\")"
   ]
  }
 ],
 "metadata": {
  "kernelspec": {
   "display_name": "graphxai_env",
   "language": "python",
   "name": "python3"
  },
  "language_info": {
   "codemirror_mode": {
    "name": "ipython",
    "version": 3
   },
   "file_extension": ".py",
   "mimetype": "text/x-python",
   "name": "python",
   "nbconvert_exporter": "python",
   "pygments_lexer": "ipython3",
   "version": "3.8.20"
  }
 },
 "nbformat": 4,
 "nbformat_minor": 2
}
